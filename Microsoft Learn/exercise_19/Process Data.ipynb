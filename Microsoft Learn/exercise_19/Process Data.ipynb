{
 "cells": [
  {
   "cell_type": "code",
   "execution_count": 0,
   "metadata": {
    "application/vnd.databricks.v1+cell": {
     "cellMetadata": {},
     "inputWidgets": {},
     "nuid": "30cefc45-643f-4d2f-9f73-e00835ef0c6c",
     "showTitle": false,
     "title": ""
    }
   },
   "outputs": [],
   "source": [
    "# Use dbutils.widget define a \"folder\" variable with a default value\n",
    "dbutils.widgets.text(\"folder\", \"data\")\n",
    "   \n",
    "# Now get the parameter value (if no value was passed, the default set above will be used)\n",
    "folder = dbutils.widgets.get(\"folder\")"
   ]
  },
  {
   "cell_type": "code",
   "execution_count": 0,
   "metadata": {
    "application/vnd.databricks.v1+cell": {
     "cellMetadata": {},
     "inputWidgets": {},
     "nuid": "c0ace17a-73f7-43e4-b9f9-b3e31db03d6e",
     "showTitle": false,
     "title": ""
    }
   },
   "outputs": [],
   "source": [
    "import urllib3\n",
    "   \n",
    "# Download product data from GitHub\n",
    "response = urllib3.PoolManager().request('GET', 'https://raw.githubusercontent.com/MicrosoftLearning/mslearn-databricks/main/data/products.csv')\n",
    "data = response.data.decode(\"utf-8\")\n",
    "   \n",
    "# Save the product data to the specified folder\n",
    "path = \"dbfs:/{0}/products.csv\".format(folder)\n",
    "dbutils.fs.put(path, data, True)"
   ]
  }
 ],
 "metadata": {
  "application/vnd.databricks.v1+notebook": {
   "dashboards": [],
   "environmentMetadata": null,
   "language": "python",
   "notebookMetadata": {
    "pythonIndentUnit": 4
   },
   "notebookName": "Process Data",
   "widgets": {}
  }
 },
 "nbformat": 4,
 "nbformat_minor": 0
}
